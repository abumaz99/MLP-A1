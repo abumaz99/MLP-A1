{
 "cells": [
  {
   "cell_type": "markdown",
   "metadata": {},
   "source": [
    "# Machine Learning in Python - Project 1\n",
    "\n",
    "Due Friday, March 6th by 5 pm.\n",
    "\n",
    "Adrian Lee, Abu Mazhar, Elliot Kovanda, Gianluca Bianchi"
   ]
  },
  {
   "cell_type": "markdown",
   "metadata": {},
   "source": [
    "## 0. Setup"
   ]
  },
  {
   "cell_type": "code",
   "execution_count": 1,
   "metadata": {},
   "outputs": [],
   "source": [
    "# Install required packages\n",
    "!pip install -q -r requirements.txt"
   ]
  },
  {
   "cell_type": "code",
   "execution_count": 2,
   "metadata": {},
   "outputs": [],
   "source": [
    "# Add any additional libraries or submodules below\n",
    "\n",
    "# Display plots inline\n",
    "%matplotlib inline\n",
    "\n",
    "# Data libraries\n",
    "import pandas as pd\n",
    "import numpy as np\n",
    "\n",
    "# Plotting libraries\n",
    "import matplotlib.pyplot as plt\n",
    "import seaborn as sns\n",
    "\n",
    "# Plotting defaults\n",
    "plt.rcParams['figure.figsize'] = (8,5)\n",
    "plt.rcParams['figure.dpi'] = 80\n",
    "\n",
    "# sklearn modules\n",
    "import sklearn\n",
    "from sklearn import tree\n",
    "from sklearn.pipeline import Pipeline\n",
    "from sklearn.pipeline import make_pipeline\n",
    "from sklearn.preprocessing import StandardScaler\n",
    "from sklearn.model_selection import train_test_split\n",
    "from sklearn.model_selection import KFold\n",
    "from sklearn.model_selection import GridSearchCV\n",
    "from sklearn.ensemble import RandomForestRegressor\n",
    "from sklearn.datasets import make_regression\n",
    "\n",
    "import datetime"
   ]
  },
  {
   "cell_type": "code",
   "execution_count": 3,
   "metadata": {},
   "outputs": [],
   "source": [
    "# Load data\n",
    "d = pd.read_csv(\"the_office.csv\")\n",
    "#importing second more up to date dataframe\n",
    "d2 = pd.read_csv(\"the_office_series.csv\")"
   ]
  },
  {
   "cell_type": "markdown",
   "metadata": {},
   "source": [
    "## 1. Introduction"
   ]
  },
  {
   "cell_type": "markdown",
   "metadata": {},
   "source": [
    "This work aims to use information about all past episodes of The Office to determine what distinguishes high-rated episodes from less popular ones. Ultimately, we wish to use this understanding to give advice to NBC Universal Studios on how to create a successful special reunion episode.\n",
    "\n",
    "First, data was reviewed and cleaned. In particular, we incorporated additional data containing updated and therefore more reliable imdb ratings. Further, this data contained additional information on each episode such as its duration and the presence of guest stars. Importantly, this additional data contains a verbal summary of each episode. By extracting the number of mentions of each character in these descriptions we obtained a proxy for their importance to that episode. We believe this indicator is more granular and superior to the mere character-presence indicator contained in the original data.\n",
    "\n",
    "Using this combined and cleaned data set we were able to develop several predictive models. These were all trained on a training subset of the 186 episodes. Tuning and evaluation of each model was done using cross-validation to obtain more generalizable error estimates. Ultimately, a shallow decision tree model proved to be most successful as at 0.245 rating points, it had the lowest average, cross-validated prediction error. Using bootstrapping we obtained a tight 95% confidence interval of 0.01 indicating that this result is reliable. We see the simplicity of the model as an asset as it demonstrated high validity does not constrain the producers' creative freedom.\n",
    "\n",
    "Specifically, we suggest placing Michael at the centre of the reunion episode. Further, episodes that contained more words are generally higher rated. Our analyses therefore suggest to additionally write a show with more than 3447 words, which corresponds to about 13% more than the mean. With these two simple considerations we expect the episode to achieve a rating of 8.9 points. This corresponds to a rating in the 88th percentile.\n",
    "\n",
    "We believe that this advice is grounded in a robust analysis, feasible to implement and will compliment the producers' domain knowledge and judgements well as it leaves significant room for creative expression."
   ]
  },
  {
   "cell_type": "markdown",
   "metadata": {},
   "source": [
    "## 2. Exploratory Data Analysis and Feature Engineering"
   ]
  },
  {
   "cell_type": "markdown",
   "metadata": {},
   "source": [
    "The `episode_name` and `EpisodeTitle` columns from the two data frames contained spelling errors and discrepancies that would have prevented subsequent merging of the data frames using these columns, including duplicate rows. Therefore these issues were first mitigated through data cleaning."
   ]
  },
  {
   "cell_type": "code",
   "execution_count": 4,
   "metadata": {},
   "outputs": [
    {
     "data": {
      "text/plain": [
       "set()"
      ]
     },
     "execution_count": 4,
     "metadata": {},
     "output_type": "execute_result"
    }
   ],
   "source": [
    "# data cleaning for episode names\n",
    "\n",
    "# use lower case\n",
    "d.episode_name = d.episode_name.apply(lambda x: x.lower())\n",
    "d2.EpisodeTitle = d2.EpisodeTitle.apply(lambda x: x.lower())\n",
    "\n",
    "# unify the spellings in the two data frames\n",
    "d.episode_name = d.episode_name.str.replace('surveilance', 'surveillance', regex=False)\n",
    "d.episode_name = d.episode_name.str.replace('cover', 'cover-up', regex=False)\n",
    "d.episode_name = d.episode_name.str.replace('a.a.r.m', 'a.a.r.m.', regex=False)\n",
    "d.episode_name = d.episode_name.str.replace(' (parts 1&2)', '', regex=False)\n",
    "d2.EpisodeTitle = d2.EpisodeTitle.str.replace(': part 1', ' (part 1)', regex=False)\n",
    "d2.EpisodeTitle = d2.EpisodeTitle.str.replace(': part 2', ' (part 2)', regex=False)\n",
    "d.episode_name = d.episode_name.str.replace('&', 'and', regex=False)\n",
    "d.episode_name = d.episode_name.str.replace('s*x', 'sex', regex=False)\n",
    "\n",
    "# remove the word \"the\" from episode names\n",
    "d.episode_name = d.episode_name.str.replace('the ', '', regex=False)\n",
    "d2.EpisodeTitle = d2.EpisodeTitle.str.replace('the ', '', regex=False)\n",
    "\n",
    "# merge the `about` column of episodes that contains two parts\n",
    "d2.loc[d2.EpisodeTitle.str.contains('delivery (part 2)', regex=False),'About'] = ' '.join(d2[d2.EpisodeTitle.str.contains('delivery')]['About'])\n",
    "d2.loc[d2.EpisodeTitle.str.contains('niagara (part 2)', regex=False),'About'] = ' '.join(d2[d2.EpisodeTitle.str.contains('niagara')]['About'])\n",
    "\n",
    "# only keep rows for the second part\n",
    "d2 = d2.loc[~d2.EpisodeTitle.str.contains('delivery (part 1)', regex=False)]\n",
    "d2 = d2.loc[~d2.EpisodeTitle.str.contains('niagara (part 1)', regex=False)]\n",
    "\n",
    "# remove \"(part 2)\" from the episode names\n",
    "d2.loc[d2.EpisodeTitle.str.contains('delivery (part 2)', regex=False), \"EpisodeTitle\"] = 'delivery'\n",
    "d2.loc[d2.EpisodeTitle.str.contains('niagara (part 2)', regex=False), \"EpisodeTitle\"] = 'niagara'\n",
    "\n",
    "# check whether there are still differences in episode names\n",
    "set(d.episode_name.tolist()).symmetric_difference(set(d2.EpisodeTitle.tolist()))"
   ]
  },
  {
   "cell_type": "markdown",
   "metadata": {},
   "source": [
    "Now that we have clean data, we merge the two data frames using the most up-to-date values for `imdb_rating` and `total_votes`."
   ]
  },
  {
   "cell_type": "code",
   "execution_count": 5,
   "metadata": {},
   "outputs": [],
   "source": [
    "# select columns of interest from the supplementary data frame\n",
    "d2 = d2[[\"Ratings\", \"EpisodeTitle\", \"About\", \"Viewership\", \"Duration\", \"GuestStars\", \"Director\"]]\n",
    "\n",
    "# replace `imdb_rating` in the original dataframe with `Ratings` from the additional data frame, since the latter has a higher sample size\n",
    "d.imdb_rating = d['episode_name'].map(d2.set_index('EpisodeTitle')['Ratings'])\n",
    "\n",
    "# combine the two data frames using episode names\n",
    "d = pd.merge(d, d2, left_on='episode_name', right_on='EpisodeTitle')\n",
    "\n",
    "# drop `EpisodeTitle`\n",
    "d = d.drop('EpisodeTitle', axis = 1)"
   ]
  },
  {
   "cell_type": "markdown",
   "metadata": {},
   "source": [
    "### Feature Engineering: `n_lines`, `n_directions`, `n_words`, `n_speak_char`, and `duration`"
   ]
  },
  {
   "cell_type": "markdown",
   "metadata": {},
   "source": [
    "On inspection of the aforementioned variables we saw that they are correlated with one another. This is an issue since if we include all of them we may obtain an unstable linear regression model which would perform suboptimally on test data. In order to control for some of this correlation we introduced new variables, `words_per_line`, `lines_per_minute`, `directions_per_minute`, `words_per_minute` and `speaking_characters_per_minute`. However, in our final model this turned out not to be an issue as the model we used allows for correlated variables without affecting the prediction so we returned to the original definition of these variables instead."
   ]
  },
  {
   "cell_type": "code",
   "execution_count": 6,
   "metadata": {},
   "outputs": [],
   "source": [
    "# combine `n_words` and `n_lines` into one feature\n",
    "d['words_per_line'] = d.n_words/d.n_lines"
   ]
  },
  {
   "cell_type": "markdown",
   "metadata": {},
   "source": [
    "### Feature Engineering: `air_date`, `month`"
   ]
  },
  {
   "cell_type": "markdown",
   "metadata": {},
   "source": [
    "To explore whether `imdb_ratings` were associated with the months in which episodes were released, the `air_date` was converted to a \"date\" format. Afterwards, the months could be extracted from the dates, so that the distributions of `imdb_ratings` for each month could be visualised."
   ]
  },
  {
   "cell_type": "code",
   "execution_count": 7,
   "metadata": {},
   "outputs": [
    {
     "data": {
      "image/png": "[encoded data removed]",
      "text/plain": [
       "<Figure size 640x400 with 1 Axes>"
      ]
     },
     "metadata": {
      "needs_background": "light"
     },
     "output_type": "display_data"
    }
   ],
   "source": [
    "# transform `air_date` into a `date`\n",
    "d.air_date = pd.to_datetime(d.air_date)\n",
    "\n",
    "# extract month from `air_date`\n",
    "d['month'] = pd.DatetimeIndex(d.air_date).month\n",
    "\n",
    "# imdb ratings for each month\n",
    "imdb_rating_month = {}\n",
    "\n",
    "for month in d.month:\n",
    "    imdb_rating_month[str(month)] = d.imdb_rating[d.month == month].tolist()\n",
    "\n",
    "imdb_rating_month = pd.DataFrame.from_dict(imdb_rating_month, orient='index').transpose()\n",
    "\n",
    "# rank violin plot by mean imdb for each `main_char`\n",
    "months_imdb_ranked = pd.DataFrame({'months': imdb_rating_month.columns,\n",
    "          'mean_imdb_rating': [mean for mean in np.mean(imdb_rating_month)]}).sort_values(by='mean_imdb_rating', ascending=False)['months'].tolist()\n",
    "\n",
    "# melt data frame\n",
    "imdb_rating_month_melted = imdb_rating_month.melt()\n",
    "\n",
    "# create plot\n",
    "sns.violinplot(y='variable', x='value', data=imdb_rating_month_melted, color='lightgrey',order=months_imdb_ranked);\n",
    "plt.title('imdb ratings for each month');\n",
    "plt.xlabel('imdb rating');\n",
    "plt.ylabel('month');"
   ]
  },
  {
   "cell_type": "markdown",
   "metadata": {},
   "source": [
    "### Feature Engineering: `GuestStars` and `main_chars`"
   ]
  },
  {
   "cell_type": "markdown",
   "metadata": {},
   "source": [
    "The first issue we encountered with these columns was the fact that they were both object types containing strings, which we cannot directly use in our model. Therefore we changed `GuestStar` into a binary variable which simply indicates the presence or absence of a guest star. We chose this as opposed to keeping the original names of the guest stars, since most guest stars only starred in one or two episodes, hence differentiating between them would not be of benefit."
   ]
  },
  {
   "cell_type": "code",
   "execution_count": 8,
   "metadata": {},
   "outputs": [],
   "source": [
    "# change GuestStars from names into whether each episode features a guest star (binary: yes/no)\n",
    "d.loc[pd.notnull(d.GuestStars),\"GuestStars\"] = 1\n",
    "d.loc[pd.isnull(d.GuestStars),\"GuestStars\"] = 0\n",
    "\n",
    "d.GuestStars = d.GuestStars.astype('int64');"
   ]
  },
  {
   "cell_type": "markdown",
   "metadata": {},
   "source": [
    "We repeated this process for the `main_char` variable so that each main character now has their own column indicating their presence in each episode."
   ]
  },
  {
   "cell_type": "code",
   "execution_count": 9,
   "metadata": {},
   "outputs": [],
   "source": [
    "# split `main_chars` column into multiple columns\n",
    "main_chars_split = d.main_chars.str.split(expand=True, pat=';')\n",
    "\n",
    "# find out the total number of episode each main character starred in\n",
    "main_chars = pd.unique(main_chars_split.values.ravel('K'))\n",
    "main_chars = main_chars[main_chars != None] # remove Nan's\n",
    "\n",
    "for char in main_chars:\n",
    "    d[char] = None\n",
    "    \n",
    "# one indicator variable for each `main_char`\n",
    "for char in main_chars:\n",
    "    for i in np.arange(0, len(d.main_chars), 1):\n",
    "        if (char in d.main_chars[i]):\n",
    "            d.at[i,char] = 1\n",
    "        else:\n",
    "            d.at[i,char] = 0"
   ]
  },
  {
   "cell_type": "markdown",
   "metadata": {},
   "source": [
    "Upon analysis of the number of times each main character appeared in each episode we found that the impact of each appearance on the imdb rating was negligible. This is due to the fact that many of the characters may appeared in an episode but only briefly in comparison to others. In order to differentiate between the impact characters had on the imdb rating futher we considered the `About` column. This contained infomation about the plot and which characters were a key part of a given episode. Our idea was that if we found episodes about particular characters scored noticeably higher or lower than the rest we could be certain that they were integral variables for our model.\n",
    "\n",
    "The violin plot below shows the imdb rating by character. We can clearly see in the plot that episodes where in which 'Michael' is a key character score bertter than the rest, whilst ones where 'Erin' was mentioned more perform worse."
   ]
  },
  {
   "cell_type": "code",
   "execution_count": 10,
   "metadata": {},
   "outputs": [
    {
     "data": {
      "image/png": "[encoded data removed]",
      "text/plain": [
       "<Figure size 640x400 with 1 Axes>"
      ]
     },
     "metadata": {
      "needs_background": "light"
     },
     "output_type": "display_data"
    }
   ],
   "source": [
    "# count no. of occurences of each word in `About`\n",
    "\n",
    "descriptions = str.split(' '.join(d.About))\n",
    "\n",
    "descriptions_words_count = {}\n",
    "\n",
    "# initialise dictionary\n",
    "for word in descriptions:\n",
    "    descriptions_words_count[word] = 0 \n",
    "\n",
    "# count\n",
    "for word in descriptions:\n",
    "    descriptions_words_count[word] += 1\n",
    "    \n",
    "# count no. of occurences of each `main_chars` in `About`\n",
    "descriptions_words_count = pd.Series(descriptions_words_count)\n",
    "\n",
    "# imdb ratings for each main character\n",
    "imdb_rating_char = {}\n",
    "\n",
    "for char in main_chars:\n",
    "    imdb_rating_char[char] = d.imdb_rating[d.main_chars.str.contains(char)].tolist()\n",
    "imdb_rating_char = pd.DataFrame.from_dict(imdb_rating_char, orient='index').transpose()\n",
    "# rank violin plot by mean imdb for each `main_char`\n",
    "main_chars_imdb_ranked = pd.DataFrame({'names': imdb_rating_char.columns,\n",
    "          'mean_imdb_rating': [mean for mean in np.mean(imdb_rating_char)]}).sort_values(by='mean_imdb_rating', ascending=False)['names'].tolist()\n",
    "\n",
    "# melt data frame\n",
    "imdb_rating_char_melted = imdb_rating_char.melt()\n",
    "\n",
    "# create plot\n",
    "sns.violinplot(y='variable', x='value', data=imdb_rating_char_melted, color='lightgrey',order=main_chars_imdb_ranked);\n",
    "plt.title('imdb ratings for each main character');\n",
    "plt.xlabel('imdb rating');\n",
    "plt.ylabel('');"
   ]
  },
  {
   "cell_type": "markdown",
   "metadata": {},
   "source": [
    "We then explored whether there were any statistically significant correlations between the number of mentions of each character in the `About` column with the `imdb_rating`, using the pairplot below. Columns that did not show statistically significant correlations were removed - correlations were deemed statistically significant when no horizontal line could be fit within the 95% convidence interval as indicated by the light blue shading around the regression line. Note that the pairplot below only shows columns with statistically significant correlations due to space constraint. "
   ]
  },
  {
   "cell_type": "code",
   "execution_count": 11,
   "metadata": {},
   "outputs": [
    {
     "data": {
      "image/png": "[encoded data removed]",
      "text/plain": [
       "<Figure size 600x200 with 3 Axes>"
      ]
     },
     "metadata": {
      "needs_background": "light"
     },
     "output_type": "display_data"
    }
   ],
   "source": [
    "for char in main_chars:\n",
    "    d[str('no_of_mentions_' + char)] = 0\n",
    "    \n",
    "# count the number of occurences of the names of each of the top 5 characters in 'About' \n",
    "for i in np.arange(0,len(d.About),1):\n",
    "    for char in main_chars:\n",
    "        if char in d.About[i]:\n",
    "            d.at[i,str('no_of_mentions_' + char)] = d.About[i].count(char)  \n",
    "\n",
    "sns.pairplot(data=d,\n",
    "            y_vars=['imdb_rating'],\n",
    "            x_vars=['no_of_mentions_Kevin',\n",
    "            'no_of_mentions_Erin',\n",
    "            'no_of_mentions_Michael'],\n",
    "            kind='reg');"
   ]
  },
  {
   "cell_type": "markdown",
   "metadata": {},
   "source": [
    "### Feature Engineering: `director` and `writer`"
   ]
  },
  {
   "cell_type": "markdown",
   "metadata": {},
   "source": [
    "With directors we had an issue that we could not consider each director indivdually, due to the fact that there were so many which would make our model far more complex than it needed to be. On observing the data we found that there were directors who directed several episodes and some which only directed a single episode. In order to use this information to best help with our recommendation to NBC Univeral, whilst still keeping our model simple enough, we chose to split the directors into groups A,B,C and D. These correspond to directors who have written: 1 to 2, 3 to 6, 7 to 13 and 14 to 15 episodes respectively. "
   ]
  },
  {
   "cell_type": "code",
   "execution_count": 12,
   "metadata": {},
   "outputs": [],
   "source": [
    "# split `director` column into multiple columns\n",
    "director_split = d.director.str.split(expand=True, pat=';')\n",
    "\n",
    "directors = pd.unique(director_split.values.ravel('K'))\n",
    "directors = directors[directors != None] # remove Nan's\n",
    "\n",
    "# number of episodes each director took part in\n",
    "director_count = [director_split[director_split==director].count().sum() for director in directors]\n",
    "# create data frame with directors' names and number of episodes featured in\n",
    "director_count = pd.DataFrame({'name': directors, 'count': director_count}).set_index('name')\n",
    "# sort values\n",
    "director_count = director_count.sort_values(by='count', ascending=False)\n",
    "\n",
    "# take an average of episodes directed for episodes with more than one director\n",
    "director_split_count = director_split\n",
    "\n",
    "for director in director_count.index.tolist():\n",
    "    director_split_count[director_split_count == director] = director_count.loc[director,\"count\"]\n",
    "    \n",
    "director_split_avg = np.mean(director_split_count,axis=1).astype('int')\n",
    "\n",
    "\n",
    "# generate new column for the groups\n",
    "d['director_grouped'] = 0\n",
    "\n",
    "d.loc[(director_split_avg >= 1)&(director_split_avg <= 2), 'director_grouped'] = 'A'\n",
    "d.loc[(director_split_avg >= 3)&(director_split_avg <= 6), 'director_grouped'] = 'B'\n",
    "d.loc[(director_split_avg >= 7)&(director_split_avg <= 13), 'director_grouped'] = 'C'\n",
    "d.loc[(director_split_avg >= 14)&(director_split_avg <= 15), 'director_grouped'] = 'D'"
   ]
  },
  {
   "cell_type": "markdown",
   "metadata": {},
   "source": [
    "We repeated this process with the `writer` column, this time splitting into groups A,B,C,D and E,  respectively correspoding to: 1 to 4, 5 to 9, 10 to 13, 14 to 17 and 18 to 21 episodes written."
   ]
  },
  {
   "cell_type": "code",
   "execution_count": 13,
   "metadata": {},
   "outputs": [],
   "source": [
    "# split `writer` column into multiple columns\n",
    "writer_split = d.writer.str.split(expand=True, pat=';')\n",
    "\n",
    "writers = pd.unique(writer_split.values.ravel('K'))\n",
    "writers = writers[writers != None] # remove Nan's\n",
    "\n",
    "# number of episodes each writer took part in\n",
    "writer_count = [writer_split[writer_split==writer].count().sum() for writer in writers]\n",
    "# create data frame with writers' names and number of episodes featured in\n",
    "writer_count = pd.DataFrame({'name': writers, 'count': writer_count}).set_index('name')\n",
    "# sort values\n",
    "writer_count = writer_count.sort_values(by='count', ascending=False)\n",
    "\n",
    "# take an average of episodes written for episodes with more than one writer\n",
    "writer_split_count = writer_split\n",
    "\n",
    "for writer in writer_count.index.tolist():\n",
    "    writer_split_count[writer_split_count == writer] = writer_count.loc[writer,\"count\"]\n",
    "    \n",
    "writer_split_avg = np.mean(writer_split_count,axis=1).astype('int')\n",
    "\n",
    "\n",
    "# generate new column for the groups\n",
    "d['writer_grouped'] = 0\n",
    "\n",
    "d.loc[(writer_split_avg >= 1)&(writer_split_avg <= 4), 'writer_grouped'] = 'A'\n",
    "d.loc[(writer_split_avg >= 5)&(writer_split_avg <= 9), 'writer_grouped'] = 'B'\n",
    "d.loc[(writer_split_avg >= 10)&(writer_split_avg <= 13), 'writer_grouped'] = 'C'\n",
    "d.loc[(writer_split_avg >= 14)&(writer_split_avg <= 17), 'writer_grouped'] = 'D'\n",
    "d.loc[(writer_split_avg >= 18)&(writer_split_avg <= 21), 'writer_grouped'] = 'E'"
   ]
  },
  {
   "cell_type": "markdown",
   "metadata": {},
   "source": [
    "### One-Hot Encoding and Final Inspection of the Data Frame"
   ]
  },
  {
   "cell_type": "code",
   "execution_count": 14,
   "metadata": {},
   "outputs": [],
   "source": [
    "d = pd.get_dummies(d, columns = ['director_grouped', 'writer_grouped', 'month'])"
   ]
  },
  {
   "cell_type": "code",
   "execution_count": 15,
   "metadata": {},
   "outputs": [],
   "source": [
    "# only keep columns that are of interest\n",
    "d = d[['imdb_rating', 'total_votes', 'Viewership', 'Duration', 'GuestStars', 'words_per_line',\n",
    "       'n_lines', 'n_directions', 'n_words', 'n_speak_char', \n",
    "   'no_of_mentions_Kevin', 'no_of_mentions_Erin', 'no_of_mentions_Michael',\n",
    "   'director_grouped_A', 'director_grouped_B', 'director_grouped_C', 'director_grouped_D',\n",
    "   'writer_grouped_A', 'writer_grouped_B', 'writer_grouped_C', 'writer_grouped_D', 'writer_grouped_E', \n",
    "       'month_1', 'month_2', 'month_3', 'month_4', 'month_5', \n",
    "       'month_9', 'month_10', 'month_11', 'month_12']]"
   ]
  },
  {
   "cell_type": "markdown",
   "metadata": {},
   "source": [
    "## 3. Model Fitting and Tuning"
   ]
  },
  {
   "cell_type": "markdown",
   "metadata": {},
   "source": [
    "As an initial step we developed a baseline model that guesses the mean imdb rating on any episode regardless of its characteristics. Clearly this provide no insight into what distinguishes popular episodes from less popular ones. However, it does give us an idea of how good our models should be. Specifically, the naive mean model produces an RMSE of 0.63. We would therefore expect any more complex model to be superior to that.\n",
    "\n",
    "Indeed, we first explored a linear regression model with all of the initial variables being kept. This produced a cross-validation RMSE of 0.555 which is slightly better than the naive baseline. However, we might improve on this by either adding flexiblity through additional polynomial degrees or reducing flexibility by removing unrelated variables. First, we performed a search over higher degree polynomial models finding that in fact the linear model was best suited. Next, we explored regularisation: With LASSO we aimed to reduce the feature space and indeed after optimising for the tuning parameter $\\alpha$ we obtained an improved cross-validation RMSE of 0.519. This is a slight improvement on the full linear model and with only **XXXX** predictors remaining would be easier to interpret and draw conclusions from. We tried ridge regression with similar success (CV RMSE of 0.519). Regularisation helped, however, the model was still quite poor. This was particularly obvious when plotting the fit and the residuals. The predictions were rather flat, overestimating unpopular shows and underestimating popular ones. As a result, we decided to proceed with a Decision Tree Regression model.\n",
    "\n",
    "We also inverstigated the idea of using a random forest as our predictive model. Whilst this model yielded accurate results (CV RMSE of **XXX**), we opted not to choose it. This was mainly due to the fact that the results are not very interpertable. While we could make inferences about how important a given feature was to our model, we could not say in which way, either positively or negatively. This made it reduntant in making recommendations. However, our findings in this model and our final regression tree model were similar in that they both deemed the most important feature to improve an episode's rating to be how much the episode's plot centered around Michael. This can clearly be seen in the graph feature importance graph below. The second most important feature is `n_words`, which yet again agrees with what we find in our Regression Tree model, thus validating its correctness and robustness."
   ]
  },
  {
   "cell_type": "code",
   "execution_count": 16,
   "metadata": {},
   "outputs": [
    {
     "name": "stdout",
     "output_type": "stream",
     "text": [
      "Best criterion: mse\n",
      "best score:  -0.2368916271264368\n"
     ]
    },
    {
     "data": {
      "image/png": "[encoded data removed]",
      "text/plain": [
       "<Figure size 640x400 with 1 Axes>"
      ]
     },
     "metadata": {
      "needs_background": "light"
     },
     "output_type": "display_data"
    }
   ],
   "source": [
    "X = d.drop(['imdb_rating',\"total_votes\",\"Viewership\"], axis=1)\n",
    "y = d.imdb_rating\n",
    "\n",
    "X_train, X_test, y_train, y_test = train_test_split(X, y, test_size=0.2, random_state=0)\n",
    "\n",
    "# Creating an StandardScaler object\n",
    "std_slc = StandardScaler()\n",
    "\n",
    "# Creating a DecisionTreeRegressor object\n",
    "ran_forest = RandomForestRegressor(n_estimators=100)\n",
    "\n",
    "# The pipeline standardises the data, then trains the decision tree regressor model.\n",
    "pipe = Pipeline(steps=[('std_slc', std_slc),\n",
    "                       ('ran_forest', ran_forest)])\n",
    "\n",
    "# Creating lists of parameters to experiment with GridSearchCV, then inserting these into a dictionary\n",
    "max_depth = list(range(10,21,1))\n",
    "\n",
    "parameters = dict(ran_forest__max_depth=max_depth)\n",
    "\n",
    "# KFold cross-validation specifications\n",
    "kf = KFold(n_splits=5, shuffle=True, random_state=0)\n",
    "\n",
    "# Creating a GridSearchCV object, using negative mean squared error as the metric\n",
    "grid_search = GridSearchCV(pipe, parameters, scoring='neg_mean_squared_error', cv=kf)\n",
    "\n",
    "# Run the grid_search object\n",
    "grid_search.fit(X_train, y_train)\n",
    "\n",
    "# Print the best parameters\n",
    "print('Best criterion:', grid_search.best_estimator_.get_params()['ran_forest__criterion'])\n",
    "print(\"best score: \", grid_search.best_score_)\n",
    "\n",
    "# plot feature importance\n",
    "importance = grid_search.best_estimator_.named_steps['ran_forest'].feature_importances_\n",
    "\n",
    "plt.barh(X.columns, importance)\n",
    "plt.title('Feature importance scores for a Random Forest of 100 regression trees')\n",
    "plt.show()"
   ]
  },
  {
   "cell_type": "markdown",
   "metadata": {},
   "source": [
    "### Decision Tree Regressor"
   ]
  },
  {
   "cell_type": "markdown",
   "metadata": {},
   "source": [
    "While exploratory analysis revealed that `total_votes` and `viewership` are significantly related to `imdb_rating`, we decided not to us these as predictor variables, since they are not under the producers' control and hence we cannot make recommendations regarding these variables. These columns were therefore dropped from our dataset. The samples were then split into train and test sets. For the cross-validation, we only utilised the training set to prevent overfitting."
   ]
  },
  {
   "cell_type": "code",
   "execution_count": 17,
   "metadata": {},
   "outputs": [],
   "source": [
    "# drop columns that are not required, split samples into train and test sets\n",
    "X = d.drop(['imdb_rating',\"total_votes\",\"Viewership\"], axis=1)\n",
    "y = d.imdb_rating\n",
    "\n",
    "X_train, X_test, y_train, y_test = train_test_split(X, y, test_size=0.2, random_state=0)"
   ]
  },
  {
   "cell_type": "markdown",
   "metadata": {},
   "source": [
    "Before training the decision tree model, the data were standardised to ensure that variables are of similar orders of magnitudes, so as to maximise the performance of the model. \n",
    "\n",
    "Through cross-validation, we explored the effects of varying `max_depth` and `ccp_alpha`, which respectively control the maximum depth of the tree and the cost-complexity pruning of the tree to control the size of the tree and prevent overfitting. We started with a large, deep tree and pruned it according to cost-complexity.\n",
    "\n",
    "A standard five-fold cross validation approach was employed. The resulting optimised hyperparamters were then outputted from the model, as shown in the output of the cell below."
   ]
  },
  {
   "cell_type": "code",
   "execution_count": 18,
   "metadata": {},
   "outputs": [
    {
     "name": "stdout",
     "output_type": "stream",
     "text": [
      "best index:  63\n",
      "best param:  {'dec_tree__ccp_alpha': 0.015, 'dec_tree__criterion': 'mse', 'dec_tree__max_depth': 10}\n",
      "best score:  -0.24534650025370386\n"
     ]
    }
   ],
   "source": [
    "# Creating an StandardScaler object\n",
    "std_scaler = StandardScaler()\n",
    "\n",
    "# Creating a DecisionTreeRegressor object\n",
    "dec_tree = tree.DecisionTreeRegressor()\n",
    "\n",
    "# The pipeline standardises the data, then trains the decision tree regressor model.\n",
    "pipe = Pipeline(steps=[('std_scaler', std_scaler),\n",
    "                       ('dec_tree', dec_tree)])\n",
    "\n",
    "# Creating lists of parameters to experiment with GridSearchCV, then inserting these into a dictionary\n",
    "criterion = ['mse']\n",
    "max_depth = list(range(10,31,1))\n",
    "ccp_alpha = list(np.arange(0,0.05,0.005))\n",
    "\n",
    "parameters = dict(dec_tree__criterion=criterion,\n",
    "                  dec_tree__max_depth=max_depth, \n",
    "                  dec_tree__ccp_alpha=ccp_alpha)\n",
    "\n",
    "# KFold cross-validation specifications\n",
    "kf = KFold(n_splits=5, shuffle=True, random_state=0)\n",
    "\n",
    "# Creating a GridSearchCV object, using negative mean squared error as the metric\n",
    "grid_search = GridSearchCV(pipe, parameters, scoring='neg_mean_squared_error', cv=kf)\n",
    "\n",
    "# Run the grid_search object\n",
    "grid_search.fit(X_train, y_train)\n",
    "\n",
    "# Print the best parameters\n",
    "print(\"best index: \", grid_search.best_index_)\n",
    "print(\"best param: \", grid_search.best_params_)\n",
    "print(\"best score: \", grid_search.best_score_)"
   ]
  },
  {
   "cell_type": "markdown",
   "metadata": {},
   "source": [
    "A significant advantage of decision tree models over other models lies in its simple interpretation. In the diagram below, the resulting decision tree is visualised so that its decision-making process could be investigated."
   ]
  },
  {
   "cell_type": "code",
   "execution_count": 19,
   "metadata": {},
   "outputs": [
    {
     "data": {
      "image/png": "[encoded data removed]",
      "text/plain": [
       "<Figure size 1200x800 with 1 Axes>"
      ]
     },
     "metadata": {
      "needs_background": "light"
     },
     "output_type": "display_data"
    }
   ],
   "source": [
    "fig = plt.figure(figsize=(15,10))\n",
    "_ = tree.plot_tree(grid_search.best_estimator_.named_steps['dec_tree'], \n",
    "                   feature_names=X.columns,\n",
    "                   filled=True, \n",
    "                   max_depth=5,\n",
    "                   fontsize=10)"
   ]
  },
  {
   "cell_type": "markdown",
   "metadata": {},
   "source": [
    "To inspect the accuracy of the model's predictions, we plotted predicted values against actual imdb ratings. Promisingly, the predicted values do generally increase for higher actual values. However, since the optimised decision tree is only two layers deep, the predicted values inevitably appear discrete due to the few number of splits in the tree. Nevertheless, this was found to be the optimal model by GridSearchCV after pruning. "
   ]
  },
  {
   "cell_type": "code",
   "execution_count": 20,
   "metadata": {},
   "outputs": [
    {
     "data": {
      "image/png": "[encoded data removed]",
      "text/plain": [
       "<Figure size 640x400 with 1 Axes>"
      ]
     },
     "metadata": {
      "needs_background": "light"
     },
     "output_type": "display_data"
    }
   ],
   "source": [
    "# plot actual vs. predicted imdb ratings\n",
    "sns.scatterplot(x=y_train, y=grid_search.best_estimator_.predict(X_train));\n",
    "plt.xlabel('actual imdb rating');\n",
    "plt.ylabel('predicted imdb rating');\n",
    "plt.xlim([6.5,10]);\n",
    "plt.ylim([6.5,10]);\n",
    "plt.title('Actual vs. predicted imdb ratings');\n",
    "\n",
    "# plot diagonal line\n",
    "x_diag = np.linspace(6.5,10,100)\n",
    "y_diag = x_diag\n",
    "plt.plot(x_diag, y_diag, color='lightgrey')\n",
    "plt.show();"
   ]
  },
  {
   "cell_type": "markdown",
   "metadata": {},
   "source": [
    "The residuals of the model are plotted against actual imdb values below to inspect whether our model is able to capture trends in the data. Promisingly, the residuals show no observable trends."
   ]
  },
  {
   "cell_type": "code",
   "execution_count": 22,
   "metadata": {},
   "outputs": [],
   "source": [
    "y_pred = grid_search.predict(X_train)"
   ]
  },
  {
   "cell_type": "code",
   "execution_count": 24,
   "metadata": {},
   "outputs": [
    {
     "data": {
      "image/png": "[encoded data removed]",
      "text/plain": [
       "<Figure size 640x400 with 1 Axes>"
      ]
     },
     "metadata": {
      "needs_background": "light"
     },
     "output_type": "display_data"
    }
   ],
   "source": [
    "from scipy import stats\n",
    "\n",
    "# Obtain regression slope and intercept\n",
    "slope, intercept, rv, pv, se = stats.linregress(y_train, y_pred)\n",
    "\n",
    "# Calculate residuals\n",
    "resid = y_pred - slope * y_train - intercept\n",
    "\n",
    "# Residual plot: fit regression line\n",
    "sns.regplot(x=y_train, y=resid, ci=False, fit_reg=True); \n",
    "plt.ylabel('residuals');"
   ]
  },
  {
   "cell_type": "markdown",
   "metadata": {},
   "source": [
    "The root mean squared error for the test set was then computed to show the performance of the optimised model. The root mean squared error is worse than that from cross-validation, indicating that there was potential underfitting or overfitting despite having optimised the hyperparameters. "
   ]
  },
  {
   "cell_type": "code",
   "execution_count": 25,
   "metadata": {},
   "outputs": [],
   "source": [
    "from sklearn.metrics import mean_squared_error"
   ]
  },
  {
   "cell_type": "code",
   "execution_count": 26,
   "metadata": {},
   "outputs": [
    {
     "data": {
      "text/plain": [
       "0.4172720294470546"
      ]
     },
     "execution_count": 26,
     "metadata": {},
     "output_type": "execute_result"
    }
   ],
   "source": [
    "mean_squared_error(y_test, grid_search.predict(X_test), squared=False)"
   ]
  },
  {
   "cell_type": "markdown",
   "metadata": {},
   "source": [
    "#### Bootstrap\n",
    "Bootstrapping let's us estimate not only the generalization error but also a confidence interval on that prediction error. Here we observe that the 95% confidence interval is very narrow at 0.01 compared to an RMSE of 0.245."
   ]
  },
  {
   "cell_type": "code",
   "execution_count": 27,
   "metadata": {},
   "outputs": [],
   "source": [
    "from sklearn import utils\n",
    "import statistics\n",
    "import numpy as np, scipy.stats as st"
   ]
  },
  {
   "cell_type": "code",
   "execution_count": 28,
   "metadata": {},
   "outputs": [
    {
     "name": "stderr",
     "output_type": "stream",
     "text": [
      "C:\\Users\\Dell\\Anaconda3\\lib\\site-packages\\pandas\\core\\indexing.py:1596: SettingWithCopyWarning: \n",
      "A value is trying to be set on a copy of a slice from a DataFrame.\n",
      "Try using .loc[row_indexer,col_indexer] = value instead\n",
      "\n",
      "See the caveats in the documentation: https://pandas.pydata.org/pandas-docs/stable/user_guide/indexing.html#returning-a-view-versus-a-copy\n",
      "  self.obj[key] = value\n",
      "C:\\Users\\Dell\\Anaconda3\\lib\\site-packages\\pandas\\core\\indexing.py:1675: SettingWithCopyWarning: \n",
      "A value is trying to be set on a copy of a slice from a DataFrame.\n",
      "Try using .loc[row_indexer,col_indexer] = value instead\n",
      "\n",
      "See the caveats in the documentation: https://pandas.pydata.org/pandas-docs/stable/user_guide/indexing.html#returning-a-view-versus-a-copy\n",
      "  self._setitem_single_column(ilocs[0], value, pi)\n"
     ]
    },
    {
     "data": {
      "text/html": [
       "<div>\n",
       "<style scoped>\n",
       "    .dataframe tbody tr th:only-of-type {\n",
       "        vertical-align: middle;\n",
       "    }\n",
       "\n",
       "    .dataframe tbody tr th {\n",
       "        vertical-align: top;\n",
       "    }\n",
       "\n",
       "    .dataframe thead th {\n",
       "        text-align: right;\n",
       "    }\n",
       "</style>\n",
       "<table border=\"1\" class=\"dataframe\">\n",
       "  <thead>\n",
       "    <tr style=\"text-align: right;\">\n",
       "      <th></th>\n",
       "      <th>Duration</th>\n",
       "      <th>GuestStars</th>\n",
       "      <th>words_per_line</th>\n",
       "      <th>n_lines</th>\n",
       "      <th>n_directions</th>\n",
       "      <th>n_words</th>\n",
       "      <th>n_speak_char</th>\n",
       "      <th>no_of_mentions_Kevin</th>\n",
       "      <th>no_of_mentions_Erin</th>\n",
       "      <th>no_of_mentions_Michael</th>\n",
       "      <th>...</th>\n",
       "      <th>month_1</th>\n",
       "      <th>month_2</th>\n",
       "      <th>month_3</th>\n",
       "      <th>month_4</th>\n",
       "      <th>month_5</th>\n",
       "      <th>month_9</th>\n",
       "      <th>month_10</th>\n",
       "      <th>month_11</th>\n",
       "      <th>month_12</th>\n",
       "      <th>imdb_rating</th>\n",
       "    </tr>\n",
       "  </thead>\n",
       "  <tbody>\n",
       "    <tr>\n",
       "      <th>139</th>\n",
       "      <td>23</td>\n",
       "      <td>0</td>\n",
       "      <td>11.544248</td>\n",
       "      <td>226</td>\n",
       "      <td>31</td>\n",
       "      <td>2609</td>\n",
       "      <td>16</td>\n",
       "      <td>0</td>\n",
       "      <td>0</td>\n",
       "      <td>0</td>\n",
       "      <td>...</td>\n",
       "      <td>0</td>\n",
       "      <td>0</td>\n",
       "      <td>0</td>\n",
       "      <td>0</td>\n",
       "      <td>0</td>\n",
       "      <td>1</td>\n",
       "      <td>0</td>\n",
       "      <td>0</td>\n",
       "      <td>0</td>\n",
       "      <td>8.1</td>\n",
       "    </tr>\n",
       "    <tr>\n",
       "      <th>8</th>\n",
       "      <td>22</td>\n",
       "      <td>1</td>\n",
       "      <td>9.266904</td>\n",
       "      <td>281</td>\n",
       "      <td>33</td>\n",
       "      <td>2604</td>\n",
       "      <td>14</td>\n",
       "      <td>0</td>\n",
       "      <td>0</td>\n",
       "      <td>1</td>\n",
       "      <td>...</td>\n",
       "      <td>0</td>\n",
       "      <td>0</td>\n",
       "      <td>0</td>\n",
       "      <td>0</td>\n",
       "      <td>0</td>\n",
       "      <td>0</td>\n",
       "      <td>1</td>\n",
       "      <td>0</td>\n",
       "      <td>0</td>\n",
       "      <td>8.4</td>\n",
       "    </tr>\n",
       "    <tr>\n",
       "      <th>113</th>\n",
       "      <td>30</td>\n",
       "      <td>0</td>\n",
       "      <td>10.134969</td>\n",
       "      <td>326</td>\n",
       "      <td>46</td>\n",
       "      <td>3304</td>\n",
       "      <td>21</td>\n",
       "      <td>0</td>\n",
       "      <td>0</td>\n",
       "      <td>1</td>\n",
       "      <td>...</td>\n",
       "      <td>0</td>\n",
       "      <td>0</td>\n",
       "      <td>0</td>\n",
       "      <td>0</td>\n",
       "      <td>1</td>\n",
       "      <td>0</td>\n",
       "      <td>0</td>\n",
       "      <td>0</td>\n",
       "      <td>0</td>\n",
       "      <td>7.8</td>\n",
       "    </tr>\n",
       "    <tr>\n",
       "      <th>170</th>\n",
       "      <td>22</td>\n",
       "      <td>0</td>\n",
       "      <td>8.975155</td>\n",
       "      <td>322</td>\n",
       "      <td>42</td>\n",
       "      <td>2890</td>\n",
       "      <td>19</td>\n",
       "      <td>0</td>\n",
       "      <td>0</td>\n",
       "      <td>0</td>\n",
       "      <td>...</td>\n",
       "      <td>0</td>\n",
       "      <td>0</td>\n",
       "      <td>0</td>\n",
       "      <td>0</td>\n",
       "      <td>0</td>\n",
       "      <td>0</td>\n",
       "      <td>0</td>\n",
       "      <td>1</td>\n",
       "      <td>0</td>\n",
       "      <td>7.8</td>\n",
       "    </tr>\n",
       "    <tr>\n",
       "      <th>92</th>\n",
       "      <td>30</td>\n",
       "      <td>0</td>\n",
       "      <td>11.910448</td>\n",
       "      <td>268</td>\n",
       "      <td>37</td>\n",
       "      <td>3192</td>\n",
       "      <td>21</td>\n",
       "      <td>0</td>\n",
       "      <td>0</td>\n",
       "      <td>1</td>\n",
       "      <td>...</td>\n",
       "      <td>0</td>\n",
       "      <td>0</td>\n",
       "      <td>0</td>\n",
       "      <td>0</td>\n",
       "      <td>0</td>\n",
       "      <td>1</td>\n",
       "      <td>0</td>\n",
       "      <td>0</td>\n",
       "      <td>0</td>\n",
       "      <td>8.1</td>\n",
       "    </tr>\n",
       "    <tr>\n",
       "      <th>...</th>\n",
       "      <td>...</td>\n",
       "      <td>...</td>\n",
       "      <td>...</td>\n",
       "      <td>...</td>\n",
       "      <td>...</td>\n",
       "      <td>...</td>\n",
       "      <td>...</td>\n",
       "      <td>...</td>\n",
       "      <td>...</td>\n",
       "      <td>...</td>\n",
       "      <td>...</td>\n",
       "      <td>...</td>\n",
       "      <td>...</td>\n",
       "      <td>...</td>\n",
       "      <td>...</td>\n",
       "      <td>...</td>\n",
       "      <td>...</td>\n",
       "      <td>...</td>\n",
       "      <td>...</td>\n",
       "      <td>...</td>\n",
       "      <td>...</td>\n",
       "    </tr>\n",
       "    <tr>\n",
       "      <th>103</th>\n",
       "      <td>30</td>\n",
       "      <td>0</td>\n",
       "      <td>8.381679</td>\n",
       "      <td>131</td>\n",
       "      <td>25</td>\n",
       "      <td>1098</td>\n",
       "      <td>12</td>\n",
       "      <td>0</td>\n",
       "      <td>0</td>\n",
       "      <td>0</td>\n",
       "      <td>...</td>\n",
       "      <td>1</td>\n",
       "      <td>0</td>\n",
       "      <td>0</td>\n",
       "      <td>0</td>\n",
       "      <td>0</td>\n",
       "      <td>0</td>\n",
       "      <td>0</td>\n",
       "      <td>0</td>\n",
       "      <td>0</td>\n",
       "      <td>6.8</td>\n",
       "    </tr>\n",
       "    <tr>\n",
       "      <th>67</th>\n",
       "      <td>22</td>\n",
       "      <td>0</td>\n",
       "      <td>10.007407</td>\n",
       "      <td>270</td>\n",
       "      <td>48</td>\n",
       "      <td>2702</td>\n",
       "      <td>16</td>\n",
       "      <td>0</td>\n",
       "      <td>0</td>\n",
       "      <td>1</td>\n",
       "      <td>...</td>\n",
       "      <td>0</td>\n",
       "      <td>0</td>\n",
       "      <td>0</td>\n",
       "      <td>0</td>\n",
       "      <td>0</td>\n",
       "      <td>0</td>\n",
       "      <td>1</td>\n",
       "      <td>0</td>\n",
       "      <td>0</td>\n",
       "      <td>8.0</td>\n",
       "    </tr>\n",
       "    <tr>\n",
       "      <th>117</th>\n",
       "      <td>30</td>\n",
       "      <td>0</td>\n",
       "      <td>10.192140</td>\n",
       "      <td>229</td>\n",
       "      <td>33</td>\n",
       "      <td>2334</td>\n",
       "      <td>17</td>\n",
       "      <td>0</td>\n",
       "      <td>1</td>\n",
       "      <td>1</td>\n",
       "      <td>...</td>\n",
       "      <td>0</td>\n",
       "      <td>0</td>\n",
       "      <td>0</td>\n",
       "      <td>0</td>\n",
       "      <td>0</td>\n",
       "      <td>0</td>\n",
       "      <td>1</td>\n",
       "      <td>0</td>\n",
       "      <td>0</td>\n",
       "      <td>8.2</td>\n",
       "    </tr>\n",
       "    <tr>\n",
       "      <th>47</th>\n",
       "      <td>21</td>\n",
       "      <td>0</td>\n",
       "      <td>10.739300</td>\n",
       "      <td>257</td>\n",
       "      <td>45</td>\n",
       "      <td>2760</td>\n",
       "      <td>18</td>\n",
       "      <td>0</td>\n",
       "      <td>0</td>\n",
       "      <td>1</td>\n",
       "      <td>...</td>\n",
       "      <td>0</td>\n",
       "      <td>0</td>\n",
       "      <td>0</td>\n",
       "      <td>1</td>\n",
       "      <td>0</td>\n",
       "      <td>0</td>\n",
       "      <td>0</td>\n",
       "      <td>0</td>\n",
       "      <td>0</td>\n",
       "      <td>8.7</td>\n",
       "    </tr>\n",
       "    <tr>\n",
       "      <th>172</th>\n",
       "      <td>22</td>\n",
       "      <td>1</td>\n",
       "      <td>11.561265</td>\n",
       "      <td>253</td>\n",
       "      <td>52</td>\n",
       "      <td>2925</td>\n",
       "      <td>21</td>\n",
       "      <td>0</td>\n",
       "      <td>0</td>\n",
       "      <td>0</td>\n",
       "      <td>...</td>\n",
       "      <td>1</td>\n",
       "      <td>0</td>\n",
       "      <td>0</td>\n",
       "      <td>0</td>\n",
       "      <td>0</td>\n",
       "      <td>0</td>\n",
       "      <td>0</td>\n",
       "      <td>0</td>\n",
       "      <td>0</td>\n",
       "      <td>7.6</td>\n",
       "    </tr>\n",
       "  </tbody>\n",
       "</table>\n",
       "<p>148 rows × 29 columns</p>\n",
       "</div>"
      ],
      "text/plain": [
       "     Duration  GuestStars  words_per_line  n_lines  n_directions  n_words  \\\n",
       "139        23           0       11.544248      226            31     2609   \n",
       "8          22           1        9.266904      281            33     2604   \n",
       "113        30           0       10.134969      326            46     3304   \n",
       "170        22           0        8.975155      322            42     2890   \n",
       "92         30           0       11.910448      268            37     3192   \n",
       "..        ...         ...             ...      ...           ...      ...   \n",
       "103        30           0        8.381679      131            25     1098   \n",
       "67         22           0       10.007407      270            48     2702   \n",
       "117        30           0       10.192140      229            33     2334   \n",
       "47         21           0       10.739300      257            45     2760   \n",
       "172        22           1       11.561265      253            52     2925   \n",
       "\n",
       "     n_speak_char  no_of_mentions_Kevin  no_of_mentions_Erin  \\\n",
       "139            16                     0                    0   \n",
       "8              14                     0                    0   \n",
       "113            21                     0                    0   \n",
       "170            19                     0                    0   \n",
       "92             21                     0                    0   \n",
       "..            ...                   ...                  ...   \n",
       "103            12                     0                    0   \n",
       "67             16                     0                    0   \n",
       "117            17                     0                    1   \n",
       "47             18                     0                    0   \n",
       "172            21                     0                    0   \n",
       "\n",
       "     no_of_mentions_Michael  ...  month_1  month_2  month_3  month_4  month_5  \\\n",
       "139                       0  ...        0        0        0        0        0   \n",
       "8                         1  ...        0        0        0        0        0   \n",
       "113                       1  ...        0        0        0        0        1   \n",
       "170                       0  ...        0        0        0        0        0   \n",
       "92                        1  ...        0        0        0        0        0   \n",
       "..                      ...  ...      ...      ...      ...      ...      ...   \n",
       "103                       0  ...        1        0        0        0        0   \n",
       "67                        1  ...        0        0        0        0        0   \n",
       "117                       1  ...        0        0        0        0        0   \n",
       "47                        1  ...        0        0        0        1        0   \n",
       "172                       0  ...        1        0        0        0        0   \n",
       "\n",
       "     month_9  month_10  month_11  month_12  imdb_rating  \n",
       "139        1         0         0         0          8.1  \n",
       "8          0         1         0         0          8.4  \n",
       "113        0         0         0         0          7.8  \n",
       "170        0         0         1         0          7.8  \n",
       "92         1         0         0         0          8.1  \n",
       "..       ...       ...       ...       ...          ...  \n",
       "103        0         0         0         0          6.8  \n",
       "67         0         1         0         0          8.0  \n",
       "117        0         1         0         0          8.2  \n",
       "47         0         0         0         0          8.7  \n",
       "172        0         0         0         0          7.6  \n",
       "\n",
       "[148 rows x 29 columns]"
      ]
     },
     "execution_count": 28,
     "metadata": {},
     "output_type": "execute_result"
    }
   ],
   "source": [
    "# Initializes a dataframe to take the bootstrap samples from\n",
    "X_boot = X_train\n",
    "X_boot.loc[:,\"imdb_rating\"] = y_train\n",
    "X_boot"
   ]
  },
  {
   "cell_type": "code",
   "execution_count": 29,
   "metadata": {},
   "outputs": [],
   "source": [
    "# Stores the bootstrap samples\n",
    "boots = []\n",
    "\n",
    "# Resamples the data with replacements\n",
    "i = 1\n",
    "while i <= 100:\n",
    "    boots.append(utils.resample(X_boot, replace=True, n_samples=len(X_train), random_state=i, stratify=None))\n",
    "    i += 1"
   ]
  },
  {
   "cell_type": "code",
   "execution_count": 30,
   "metadata": {},
   "outputs": [],
   "source": [
    "# Stores the RMSE for each bootstrap sample\n",
    "boot_rmse = []\n",
    "\n",
    "# Obtains the RMSE for each bootstrap sample \n",
    "# by predicting using our model \n",
    "i = 0\n",
    "while i < len(boots):\n",
    "    boot_rmse.append(mean_squared_error(boots[i].imdb_rating, grid_search.predict(boots[i].drop(\"imdb_rating\", axis = 1)), squared=False))\n",
    "    i += 1"
   ]
  },
  {
   "cell_type": "code",
   "execution_count": 31,
   "metadata": {},
   "outputs": [
    {
     "name": "stdout",
     "output_type": "stream",
     "text": [
      "The 95% confidence interval is: 0.01\n"
     ]
    }
   ],
   "source": [
    "# Obtains the 95% confident interval\n",
    "conf_int = st.t.interval(0.95, len(boot_rmse)-1, loc=np.mean(boot_rmse), scale=st.sem(boot_rmse))\n",
    "\n",
    "print(\"The 95% confidence interval is:\", round(conf_int[1]-conf_int[0],3))"
   ]
  },
  {
   "cell_type": "markdown",
   "metadata": {},
   "source": [
    "## 4. Discussion & Conclusions\n"
   ]
  },
  {
   "cell_type": "markdown",
   "metadata": {},
   "source": [
    "Ultimately, we selected a regression tree model because it provides the best balance between high prediction accuracy and interpretability. Specifically, our final regression tree model is quite shallow at only two layers deep. This was obtained by initially developing a large tree before pruning it using the cost complexity criterion. Using this search over a large grid of possible parameter combinations, we obtain an optimal tree with an average 5-fold cross-validation RMSE of 0.245. This means that given information about a novel episode our model's prediction is on average within 0.245 rating points of the actual value. This is superior to all but the RandomForest model we tried which, however, suffers from poor interpretability. Bootstrapping the model by drawing randomly with replacement from the original tranining data, we see that the standard deviation of the RMSE over 100 bootstrapped samples is merely 0.01, indicating that value is reliable.  \n",
    "\n",
    "Putting this prediction error into context, we observe that it adds value beyond the naive approach of predicting the mean rating on every episode (which produces an RMSE of 0.63). This shows that our model makes good use of the available data. When questioning why our model does not perform even better we should note several things: First, the episode ratings are fairly consistent, with a standard deviation of merely 0.59 around the mean which makes the mean actually a reasonable, yet useless estimator. Second, it is noteable that our model obtains this improvement while focussing on merely three pieces of data: the number of times Michael is mentioned in the episode's description, the number of words and the number of lines spoken in that episode. Third, we should consider the complexity of human thought and behaviour. Breaking down the popularity of an episode and people's inclination to rate it on a website is simply not a trivial task. We are therefore not surprised that this limited data set does not result in even better predictions. Since the content of an episode, i.e. the main character(s) are deemed most impactful by the model, a useful extension may be to consider sentiment or theme analysis to gain further insight into which content drives good ratings. \n",
    "\n",
    "A slightly puzzling result is given by RMSE on the test data which at 0.417 is significantly worse than the cross-validation RMSE. We would expect that the cross-validation RMSE is a representative estimate of the generalization error and we have no ready explanation for this large discrepancy. We checked whether the random train-test split perhaps resulted in unfortunate partitions, howewer this does not explain the discrepancy. We decided to be transparent about the result but not attach too much weight to it. We believe our methods are valid and adjusting our model based on unsatisfactory test results would violate the golden rule of machine learning to never train on your test data. \n",
    "\n",
    "Our regression tree allows us to make several recommendations. Specifically, the number of times Michael is mentioned in the episode description is important. We understand this a as proxy for the focus of the episode, and generally, focussing more on Michael is adviseable. Notably, however, there are a handful cases where Michael was incidental to the episode but the rating was still favourable as long as the episode had particularly many lines. Since this sample is quite small it is unclear how reliable this finding is. Therefore, we recommend designing an episode for the second best region on the right-hand branch of the tree. Specifically, Michael should be central to an episode and that episode should contain a high number of words. To be precise our model predicts a mean rating of 8.9, when 3447 words (corresponding to 0.492 standard deviations above the mean) are spoken and Michael is the focus of the episode. This corresponds to a rating within the top 12%.\n",
    "\n",
    "A comment is warranted on the related characteristics of number of words, lines, directions and duration of an episode: Generally, longer episodes tend to be more popular than shorter ones, however, according to our model this appears to be best explained by the number of words and the number of lines rather than the actual length. It may therefore be advisable to have episodes with more dialogue rather than stretching out an episode for the sake of duration itself. This leads to another interesting conclusion, in that several characteristics did not emerge significant to the rating: For instance, we found no evidence that certain writers or directors wrote superior episodes. Neither did we find support for an effect Guest Stars may have. This suggests that the producers may wish to refrain from hiring expensive writers, directors and guests as they do not seems to contribute to the popularity of an episode.    \n",
    "\n",
    "We believe that this analysis and the recommendations made above can help NBC Universal Studios produce a very popular reunion episode. "
   ]
  },
  {
   "cell_type": "markdown",
   "metadata": {},
   "source": [
    "## 5. Convert Document"
   ]
  },
  {
   "cell_type": "code",
   "execution_count": 32,
   "metadata": {},
   "outputs": [
    {
     "name": "stderr",
     "output_type": "stream",
     "text": [
      "[NbConvertApp] Converting notebook project1.ipynb to markdown\n",
      "[NbConvertApp] Support files will be in project1_files\\\n",
      "[NbConvertApp] Making directory project1_files\n",
      "[NbConvertApp] Making directory project1_files\n",
      "[NbConvertApp] Making directory project1_files\n",
      "[NbConvertApp] Making directory project1_files\n",
      "[NbConvertApp] Making directory project1_files\n",
      "[NbConvertApp] Making directory project1_files\n",
      "[NbConvertApp] Making directory project1_files\n",
      "[NbConvertApp] Writing 40449 bytes to project1.md\n"
     ]
    }
   ],
   "source": [
    "# Run the following to render to PDF\n",
    "!jupyter nbconvert --to markdown project1.ipynb"
   ]
  }
 ],
 "metadata": {
  "kernelspec": {
   "display_name": "Python 3",
   "language": "python",
   "name": "python3"
  },
  "language_info": {
   "codemirror_mode": {
    "name": "ipython",
    "version": 3
   },
   "file_extension": ".py",
   "mimetype": "text/x-python",
   "name": "python",
   "nbconvert_exporter": "python",
   "pygments_lexer": "ipython3",
   "version": "3.7.3"
  }
 },
 "nbformat": 4,
 "nbformat_minor": 4
}
